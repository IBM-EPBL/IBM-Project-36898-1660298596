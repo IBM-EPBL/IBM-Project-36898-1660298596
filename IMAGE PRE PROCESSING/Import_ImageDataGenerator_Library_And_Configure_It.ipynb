{
  "nbformat": 4,
  "nbformat_minor": 0,
  "metadata": {
    "colab": {
      "provenance": []
    },
    "kernelspec": {
      "name": "python3",
      "display_name": "Python 3"
    },
    "language_info": {
      "name": "python"
    }
  },
  "cells": [
    {
      "cell_type": "code",
      "execution_count": 2,
      "metadata": {
        "id": "mqjkat9t6T1Z",
        "outputId": "0e7baed1-d366-4db4-8459-9d56cdf342ff",
        "colab": {
          "base_uri": "https://localhost:8080/"
        }
      },
      "outputs": [
        {
          "output_type": "execute_result",
          "data": {
            "text/plain": [
              "{'nbformat': 4,\n",
              " 'nbformat_minor': 0,\n",
              " 'metadata': {'colab': {'provenance': []},\n",
              "  'kernelspec': {'name': 'python3', 'display_name': 'Python 3'},\n",
              "  'language_info': {'name': 'python'}},\n",
              " 'cells': [{'cell_type': 'code',\n",
              "   'execution_count': 1,\n",
              "   'metadata': {'id': '3X7Lc25WhksU'},\n",
              "   'outputs': [],\n",
              "   'source': ['from tensorflow.keras.preprocessing.image import ImageDataGenerator']},\n",
              "  {'cell_type': 'code',\n",
              "   'source': ['# Training Datagen\\n',\n",
              "    'train_datagen = ImageDataGenerator(rescale=1/255,zoom_range=0.2,horizontal_flip=True,vertical_flip=False)\\n',\n",
              "    '# Testing Datagen\\n',\n",
              "    'test_datagen = ImageDataGenerator(rescale=1/255)'],\n",
              "   'metadata': {'id': 'hGnB_tOtlEd-'},\n",
              "   'execution_count': 2,\n",
              "   'outputs': []},\n",
              "  {'cell_type': 'code',\n",
              "   'source': ['import tensorflow as tf\\n',\n",
              "    'import os\\n',\n",
              "    'from tensorflow.keras.models import Sequential\\n',\n",
              "    'from tensorflow.keras.layers import Dense, Conv2D, Flatten, Dropout, MaxPooling2D\\n',\n",
              "    'from tensorflow.keras.preprocessing.image import ImageDataGenerator\\n',\n",
              "    'import numpy as np\\n',\n",
              "    'import matplotlib.pyplot as plt\\n',\n",
              "    'import IPython.display as display\\n',\n",
              "    'from PIL import Image\\n',\n",
              "    'import pathlib'],\n",
              "   'metadata': {'id': 'Etq60D4YlG1y'},\n",
              "   'execution_count': 3,\n",
              "   'outputs': []}]}"
            ]
          },
          "metadata": {},
          "execution_count": 2
        }
      ],
      "source": [
        "{\n",
        "  \"nbformat\": 4,\n",
        "  \"nbformat_minor\": 0,\n",
        "  \"metadata\": {\n",
        "    \"colab\": {\n",
        "      \"provenance\": []\n",
        "    },\n",
        "    \"kernelspec\": {\n",
        "      \"name\": \"python3\",\n",
        "      \"display_name\": \"Python 3\"\n",
        "    },\n",
        "    \"language_info\": {\n",
        "      \"name\": \"python\"\n",
        "    }\n",
        "  },\n",
        "  \"cells\": [\n",
        "    {\n",
        "      \"cell_type\": \"code\",\n",
        "      \"execution_count\": 1,\n",
        "      \"metadata\": {\n",
        "        \"id\": \"3X7Lc25WhksU\"\n",
        "      },\n",
        "      \"outputs\": [],\n",
        "      \"source\": [\n",
        "        \"from tensorflow.keras.preprocessing.image import ImageDataGenerator\"\n",
        "      ]\n",
        "    },\n",
        "    {\n",
        "      \"cell_type\": \"code\",\n",
        "      \"source\": [\n",
        "        \"# Training Datagen\\n\",\n",
        "        \"train_datagen = ImageDataGenerator(rescale=1/255,zoom_range=0.2,horizontal_flip=True,vertical_flip=False)\\n\",\n",
        "        \"# Testing Datagen\\n\",\n",
        "        \"test_datagen = ImageDataGenerator(rescale=1/255)\"\n",
        "      ],\n",
        "      \"metadata\": {\n",
        "        \"id\": \"hGnB_tOtlEd-\"\n",
        "      },\n",
        "      \"execution_count\": 2,\n",
        "      \"outputs\": []\n",
        "    },\n",
        "    {\n",
        "      \"cell_type\": \"code\",\n",
        "      \"source\": [\n",
        "        \"import tensorflow as tf\\n\",\n",
        "        \"import os\\n\",\n",
        "        \"from tensorflow.keras.models import Sequential\\n\",\n",
        "        \"from tensorflow.keras.layers import Dense, Conv2D, Flatten, Dropout, MaxPooling2D\\n\",\n",
        "        \"from tensorflow.keras.preprocessing.image import ImageDataGenerator\\n\",\n",
        "        \"import numpy as np\\n\",\n",
        "        \"import matplotlib.pyplot as plt\\n\",\n",
        "        \"import IPython.display as display\\n\",\n",
        "        \"from PIL import Image\\n\",\n",
        "        \"import pathlib\"\n",
        "      ],\n",
        "      \"metadata\": {\n",
        "        \"id\": \"Etq60D4YlG1y\"\n",
        "      },\n",
        "      \"execution_count\": 3,\n",
        "      \"outputs\": []\n",
        "    }\n",
        "  ]\n",
        "}"
      ]
    }
  ]
}